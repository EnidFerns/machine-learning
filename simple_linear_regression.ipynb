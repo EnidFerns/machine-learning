{
  "nbformat": 4,
  "nbformat_minor": 0,
  "metadata": {
    "colab": {
      "name": "linear regression.ipynb",
      "provenance": [],
      "collapsed_sections": []
    },
    "kernelspec": {
      "name": "python3",
      "display_name": "Python 3"
    },
    "language_info": {
      "name": "python"
    }
  },
  "cells": [
    {
      "cell_type": "markdown",
      "metadata": {
        "id": "FtyhorlUuspY"
      },
      "source": [
        "linear regression\n",
        "\n",
        "best fit line\n",
        "\n",
        "least swquare method/absolute method\n",
        "\n",
        "y=mx+c\n",
        "c is y intercept\n",
        "m is slope\n",
        "\n",
        "y=(x-x')^2(y-y')/(x-x')^2"
      ]
    },
    {
      "cell_type": "code",
      "metadata": {
        "id": "CRgP_GUGYnOZ"
      },
      "source": [
        "import pandas as pd\n",
        "import matplotlib.pyplot as plt\n",
        "import numpy as np"
      ],
      "execution_count": null,
      "outputs": []
    },
    {
      "cell_type": "code",
      "metadata": {
        "id": "fD-U2AzJmyec"
      },
      "source": [
        "df = pd.read_csv('/content/drive/MyDrive/Verzeo ML Feb Batch/LSM1.csv')"
      ],
      "execution_count": null,
      "outputs": []
    },
    {
      "cell_type": "code",
      "metadata": {
        "colab": {
          "base_uri": "https://localhost:8080/",
          "height": 204
        },
        "id": "dYkmSQq8nJHO",
        "outputId": "369678b1-82b2-4e07-d325-97af07a11a99"
      },
      "source": [
        "df"
      ],
      "execution_count": null,
      "outputs": [
        {
          "output_type": "execute_result",
          "data": {
            "text/html": [
              "<div>\n",
              "<style scoped>\n",
              "    .dataframe tbody tr th:only-of-type {\n",
              "        vertical-align: middle;\n",
              "    }\n",
              "\n",
              "    .dataframe tbody tr th {\n",
              "        vertical-align: top;\n",
              "    }\n",
              "\n",
              "    .dataframe thead th {\n",
              "        text-align: right;\n",
              "    }\n",
              "</style>\n",
              "<table border=\"1\" class=\"dataframe\">\n",
              "  <thead>\n",
              "    <tr style=\"text-align: right;\">\n",
              "      <th></th>\n",
              "      <th>X</th>\n",
              "      <th>Y</th>\n",
              "    </tr>\n",
              "  </thead>\n",
              "  <tbody>\n",
              "    <tr>\n",
              "      <th>0</th>\n",
              "      <td>1</td>\n",
              "      <td>2</td>\n",
              "    </tr>\n",
              "    <tr>\n",
              "      <th>1</th>\n",
              "      <td>2</td>\n",
              "      <td>4</td>\n",
              "    </tr>\n",
              "    <tr>\n",
              "      <th>2</th>\n",
              "      <td>3</td>\n",
              "      <td>5</td>\n",
              "    </tr>\n",
              "    <tr>\n",
              "      <th>3</th>\n",
              "      <td>4</td>\n",
              "      <td>4</td>\n",
              "    </tr>\n",
              "    <tr>\n",
              "      <th>4</th>\n",
              "      <td>5</td>\n",
              "      <td>5</td>\n",
              "    </tr>\n",
              "  </tbody>\n",
              "</table>\n",
              "</div>"
            ],
            "text/plain": [
              "   X  Y\n",
              "0  1  2\n",
              "1  2  4\n",
              "2  3  5\n",
              "3  4  4\n",
              "4  5  5"
            ]
          },
          "metadata": {
            "tags": []
          },
          "execution_count": 5
        }
      ]
    },
    {
      "cell_type": "markdown",
      "metadata": {
        "id": "99tKuk_8nqME"
      },
      "source": [
        "### dividing features and labels\n",
        "*italicised text*x column is input\n",
        "y column is output\n",
        "\n",
        "use iloc[rows:colums]\n",
        "iloc tells you from which row to which row and what colum to trim the data"
      ]
    },
    {
      "cell_type": "code",
      "metadata": {
        "id": "RuA4ZYndnLE8"
      },
      "source": [
        "x= df.iloc[:,0].values.reshape(5,1)#(-1,1) also works #to store the values .values for storing pure values without index and all///to get a dataframe"
      ],
      "execution_count": null,
      "outputs": []
    },
    {
      "cell_type": "code",
      "metadata": {
        "id": "13bkaxxcod64"
      },
      "source": [
        "y= df.iloc[:,1].values.reshape(5,1)#rehshape makes the array 2d from 1d (5,) 5 elements in 1d array"
      ],
      "execution_count": null,
      "outputs": []
    },
    {
      "cell_type": "markdown",
      "metadata": {
        "id": "15ZSMMT5tApy"
      },
      "source": [
        "array of 1 d can be reshapped to diff ds\n",
        "5,2 means ur giving 5 rows and 2 colums but in this cause we dont have 2 columns"
      ]
    },
    {
      "cell_type": "markdown",
      "metadata": {
        "id": "G4jps-LC4moY"
      },
      "source": [
        "for taking all rows(when its not feasible to count the rows) instead of 5 u can take negative index -1(last row.. same as 5)"
      ]
    },
    {
      "cell_type": "code",
      "metadata": {
        "colab": {
          "base_uri": "https://localhost:8080/"
        },
        "id": "cmAaOPWisihY",
        "outputId": "67d6c7ab-274f-4215-ed3d-fbf39c87af5d"
      },
      "source": [
        "y.shape"
      ],
      "execution_count": null,
      "outputs": [
        {
          "output_type": "execute_result",
          "data": {
            "text/plain": [
              "(5, 1)"
            ]
          },
          "metadata": {
            "tags": []
          },
          "execution_count": 8
        }
      ]
    },
    {
      "cell_type": "code",
      "metadata": {
        "colab": {
          "base_uri": "https://localhost:8080/"
        },
        "id": "oFKRiM6Vopmm",
        "outputId": "250dc0c5-f56c-418d-acc3-62733b9382f2"
      },
      "source": [
        "x"
      ],
      "execution_count": null,
      "outputs": [
        {
          "output_type": "execute_result",
          "data": {
            "text/plain": [
              "array([[1],\n",
              "       [2],\n",
              "       [3],\n",
              "       [4],\n",
              "       [5]])"
            ]
          },
          "metadata": {
            "tags": []
          },
          "execution_count": 9
        }
      ]
    },
    {
      "cell_type": "code",
      "metadata": {
        "colab": {
          "base_uri": "https://localhost:8080/"
        },
        "id": "tu__zbUOoqYV",
        "outputId": "35df2900-bba4-4af3-bc08-4b2dfbc38275"
      },
      "source": [
        "y"
      ],
      "execution_count": null,
      "outputs": [
        {
          "output_type": "execute_result",
          "data": {
            "text/plain": [
              "array([[2],\n",
              "       [4],\n",
              "       [5],\n",
              "       [4],\n",
              "       [5]])"
            ]
          },
          "metadata": {
            "tags": []
          },
          "execution_count": 10
        }
      ]
    },
    {
      "cell_type": "code",
      "metadata": {
        "id": "FvRehhb2orZL"
      },
      "source": [
        "from sklearn.linear_model import LinearRegression"
      ],
      "execution_count": null,
      "outputs": []
    },
    {
      "cell_type": "code",
      "metadata": {
        "id": "hW_Rm85VqQIX"
      },
      "source": [
        "#create a variable to import linear regression class to worl"
      ],
      "execution_count": null,
      "outputs": []
    },
    {
      "cell_type": "code",
      "metadata": {
        "id": "LcP-O2-Fq00l"
      },
      "source": [
        "Lin = LinearRegression()"
      ],
      "execution_count": null,
      "outputs": []
    },
    {
      "cell_type": "code",
      "metadata": {
        "colab": {
          "base_uri": "https://localhost:8080/"
        },
        "id": "-ziGSr0Dq67s",
        "outputId": "c06023b1-d839-46e6-e57f-da2be61f1c35"
      },
      "source": [
        "Lin"
      ],
      "execution_count": null,
      "outputs": [
        {
          "output_type": "execute_result",
          "data": {
            "text/plain": [
              "LinearRegression(copy_X=True, fit_intercept=True, n_jobs=None, normalize=False)"
            ]
          },
          "metadata": {
            "tags": []
          },
          "execution_count": 13
        }
      ]
    },
    {
      "cell_type": "code",
      "metadata": {
        "id": "Rh61qtBhq__L"
      },
      "source": [
        "#use fit model"
      ],
      "execution_count": null,
      "outputs": []
    },
    {
      "cell_type": "code",
      "metadata": {
        "colab": {
          "base_uri": "https://localhost:8080/"
        },
        "id": "qsqqLbY8rD_a",
        "outputId": "c3459706-3d69-45b0-a474-6438fb443d43"
      },
      "source": [
        "Lin.fit(x,y) #fit  function finds best fit line... calculates y intercept, slope"
      ],
      "execution_count": null,
      "outputs": [
        {
          "output_type": "execute_result",
          "data": {
            "text/plain": [
              "LinearRegression(copy_X=True, fit_intercept=True, n_jobs=None, normalize=False)"
            ]
          },
          "metadata": {
            "tags": []
          },
          "execution_count": 15
        }
      ]
    },
    {
      "cell_type": "markdown",
      "metadata": {
        "id": "JKnkWWXq5ATL"
      },
      "source": [
        "comparison part- predicting a specific value\n",
        "\n",
        "\n",
        "individual input testing"
      ]
    },
    {
      "cell_type": "code",
      "metadata": {
        "colab": {
          "base_uri": "https://localhost:8080/"
        },
        "id": "Eq2twMU3rrJJ",
        "outputId": "053a5842-eab4-4f04-a036-2cddc2047019"
      },
      "source": [
        "Lin.predict([[2.5]])#input in 2d as linear regression only takes 2d # for x=2.5 we get y=3.7 theoreticaly"
      ],
      "execution_count": null,
      "outputs": [
        {
          "output_type": "execute_result",
          "data": {
            "text/plain": [
              "array([[3.7]])"
            ]
          },
          "metadata": {
            "tags": []
          },
          "execution_count": 16
        }
      ]
    },
    {
      "cell_type": "markdown",
      "metadata": {
        "id": "EyEfddd_5wBG"
      },
      "source": [
        "if u want all the values of the datasel use x instead od one value\n",
        "\n",
        "testing whole input column"
      ]
    },
    {
      "cell_type": "code",
      "metadata": {
        "id": "YHymRyjO5oIK"
      },
      "source": [
        "pred_y = Lin.predict(x)#complete array output"
      ],
      "execution_count": null,
      "outputs": []
    },
    {
      "cell_type": "code",
      "metadata": {
        "colab": {
          "base_uri": "https://localhost:8080/"
        },
        "id": "r1yFfj7h6ebF",
        "outputId": "22d213b7-9d49-4973-e555-9071b8799bb3"
      },
      "source": [
        "pred_y#predicted result given by lr"
      ],
      "execution_count": null,
      "outputs": [
        {
          "output_type": "execute_result",
          "data": {
            "text/plain": [
              "array([[2.8],\n",
              "       [3.4],\n",
              "       [4. ],\n",
              "       [4.6],\n",
              "       [5.2]])"
            ]
          },
          "metadata": {
            "tags": []
          },
          "execution_count": 18
        }
      ]
    },
    {
      "cell_type": "code",
      "metadata": {
        "colab": {
          "base_uri": "https://localhost:8080/"
        },
        "id": "X8Y780iS6jYZ",
        "outputId": "e59d2731-3d43-46c3-81f2-b5ffe95875ed"
      },
      "source": [
        "y#actual results"
      ],
      "execution_count": null,
      "outputs": [
        {
          "output_type": "execute_result",
          "data": {
            "text/plain": [
              "array([[2],\n",
              "       [4],\n",
              "       [5],\n",
              "       [4],\n",
              "       [5]])"
            ]
          },
          "metadata": {
            "tags": []
          },
          "execution_count": 19
        }
      ]
    },
    {
      "cell_type": "code",
      "metadata": {
        "id": "vRdWW_Rk6wAj"
      },
      "source": [
        "#to find coefficient b0/intercept 2.2 manual"
      ],
      "execution_count": null,
      "outputs": []
    },
    {
      "cell_type": "code",
      "metadata": {
        "colab": {
          "base_uri": "https://localhost:8080/"
        },
        "id": "6K2QJvZm7MmW",
        "outputId": "d57b3a72-c655-4318-f050-3f7d277824e6"
      },
      "source": [
        "Lin.intercept_"
      ],
      "execution_count": null,
      "outputs": [
        {
          "output_type": "execute_result",
          "data": {
            "text/plain": [
              "array([2.2])"
            ]
          },
          "metadata": {
            "tags": []
          },
          "execution_count": 21
        }
      ]
    },
    {
      "cell_type": "code",
      "metadata": {
        "id": "YJQzKwLz7S4D"
      },
      "source": [
        "#slope/b1"
      ],
      "execution_count": null,
      "outputs": []
    },
    {
      "cell_type": "code",
      "metadata": {
        "colab": {
          "base_uri": "https://localhost:8080/"
        },
        "id": "z0lAu9Ir7UzD",
        "outputId": "e1a933b3-c240-4047-9704-18f281aeee4d"
      },
      "source": [
        "Lin.coef_"
      ],
      "execution_count": null,
      "outputs": [
        {
          "output_type": "execute_result",
          "data": {
            "text/plain": [
              "array([[0.6]])"
            ]
          },
          "metadata": {
            "tags": []
          },
          "execution_count": 25
        }
      ]
    },
    {
      "cell_type": "code",
      "metadata": {
        "id": "hJlGVS107cNO"
      },
      "source": [
        "#y=mx+c"
      ],
      "execution_count": null,
      "outputs": []
    },
    {
      "cell_type": "code",
      "metadata": {
        "colab": {
          "base_uri": "https://localhost:8080/"
        },
        "id": "WSRVTbYU7i9D",
        "outputId": "8fb29a7b-d248-4f04-f879-2a18a150ebb8"
      },
      "source": [
        "2.2+0.6*3#using manual calci"
      ],
      "execution_count": null,
      "outputs": [
        {
          "output_type": "execute_result",
          "data": {
            "text/plain": [
              "4.0"
            ]
          },
          "metadata": {
            "tags": []
          },
          "execution_count": 33
        }
      ]
    },
    {
      "cell_type": "code",
      "metadata": {
        "id": "SbSjXRI97v9H"
      },
      "source": [
        "#for x=3, actual value is 5 model ive created gives 4.0"
      ],
      "execution_count": null,
      "outputs": []
    },
    {
      "cell_type": "code",
      "metadata": {
        "colab": {
          "base_uri": "https://localhost:8080/"
        },
        "id": "As-HPOmy8J1C",
        "outputId": "06547f9c-0969-4300-ad9c-c73bfc9eee45"
      },
      "source": [
        "Lin.predict([[3]])#using model prediction"
      ],
      "execution_count": null,
      "outputs": [
        {
          "output_type": "execute_result",
          "data": {
            "text/plain": [
              "array([[4.]])"
            ]
          },
          "metadata": {
            "tags": []
          },
          "execution_count": 35
        }
      ]
    },
    {
      "cell_type": "code",
      "metadata": {
        "colab": {
          "base_uri": "https://localhost:8080/"
        },
        "id": "QuslynSU8Mc7",
        "outputId": "81a41836-525a-478e-eff5-447453f4c400"
      },
      "source": [
        "Lin.predict([[7]])#predicting something thats not in given dataset"
      ],
      "execution_count": null,
      "outputs": [
        {
          "output_type": "execute_result",
          "data": {
            "text/plain": [
              "array([[6.4]])"
            ]
          },
          "metadata": {
            "tags": []
          },
          "execution_count": 37
        }
      ]
    },
    {
      "cell_type": "markdown",
      "metadata": {
        "id": "sHOV3qGV80aM"
      },
      "source": [
        "data visualisation using matplotlib"
      ]
    },
    {
      "cell_type": "code",
      "metadata": {
        "colab": {
          "base_uri": "https://localhost:8080/",
          "height": 265
        },
        "id": "e0vewg6L8niU",
        "outputId": "53170b19-88b8-473c-d137-f0f8287ce7e1"
      },
      "source": [
        "plt.scatter(x,y)#scatterplot #x axis is x point y axis is y point\n",
        "plt.show()"
      ],
      "execution_count": null,
      "outputs": [
        {
          "output_type": "display_data",
          "data": {
            "image/png": "[encoded data removed]",
            "text/plain": [
              "<Figure size 432x288 with 1 Axes>"
            ]
          },
          "metadata": {
            "tags": [],
            "needs_background": "light"
          }
        }
      ]
    },
    {
      "cell_type": "code",
      "metadata": {
        "id": "cuilUq6A8_Y9"
      },
      "source": [
        "#if u want the equation linje along with that(the y line)"
      ],
      "execution_count": null,
      "outputs": []
    },
    {
      "cell_type": "code",
      "metadata": {
        "colab": {
          "base_uri": "https://localhost:8080/",
          "height": 265
        },
        "id": "B5vwE1yS9H_M",
        "outputId": "de6e322b-5cef-4a6d-d0f2-1b9e87713828"
      },
      "source": [
        "plt.plot(x,y)#to see the whole line\n",
        "plt.show()"
      ],
      "execution_count": null,
      "outputs": [
        {
          "output_type": "display_data",
          "data": {
            "image/png": "[encoded data removed]",
            "text/plain": [
              "<Figure size 432x288 with 1 Axes>"
            ]
          },
          "metadata": {
            "tags": [],
            "needs_background": "light"
          }
        }
      ]
    },
    {
      "cell_type": "code",
      "metadata": {
        "id": "6OMEXJ3P9TBQ"
      },
      "source": [
        "#for best fit line instead of y put pred_y"
      ],
      "execution_count": null,
      "outputs": []
    },
    {
      "cell_type": "code",
      "metadata": {
        "colab": {
          "base_uri": "https://localhost:8080/",
          "height": 265
        },
        "id": "lmcddoU69XsD",
        "outputId": "fc8a9424-2ff2-479f-8c88-83b8f203640d"
      },
      "source": [
        "plt.plot(x,pred_y)\n",
        "plt.show()"
      ],
      "execution_count": null,
      "outputs": [
        {
          "output_type": "display_data",
          "data": {
            "image/png": "[encoded data removed]",
            "text/plain": [
              "<Figure size 432x288 with 1 Axes>"
            ]
          },
          "metadata": {
            "tags": [],
            "needs_background": "light"
          }
        }
      ]
    },
    {
      "cell_type": "code",
      "metadata": {
        "id": "1zLGM9Dg9gIu"
      },
      "source": [
        "#for line with dots"
      ],
      "execution_count": null,
      "outputs": []
    },
    {
      "cell_type": "code",
      "metadata": {
        "colab": {
          "base_uri": "https://localhost:8080/",
          "height": 265
        },
        "id": "mH7GuqtO9ikx",
        "outputId": "0858c911-9a1c-4a93-f144-95b29244c575"
      },
      "source": [
        "plt.scatter(x,y)#i/p\n",
        "plt.plot(x,pred_y)#o/p\n",
        "plt.show()"
      ],
      "execution_count": null,
      "outputs": [
        {
          "output_type": "display_data",
          "data": {
            "image/png": "[encoded data removed]",
            "text/plain": [
              "<Figure size 432x288 with 1 Axes>"
            ]
          },
          "metadata": {
            "tags": [],
            "needs_background": "light"
          }
        }
      ]
    },
    {
      "cell_type": "markdown",
      "metadata": {
        "id": "Md7-0m5794bh"
      },
      "source": [
        "changing graphs configuration"
      ]
    },
    {
      "cell_type": "code",
      "metadata": {
        "colab": {
          "base_uri": "https://localhost:8080/",
          "height": 129
        },
        "id": "ZCc3QfHM9xyY",
        "outputId": "01873897-9dbf-449c-a2be-bfdcd390da65"
      },
      "source": [
        "plt.scatter? #to get diff parameters "
      ],
      "execution_count": null,
      "outputs": [
        {
          "output_type": "error",
          "ename": "SyntaxError",
          "evalue": "ignored",
          "traceback": [
            "\u001b[0;36m  File \u001b[0;32m\"<ipython-input-53-75c20ebdb723>\"\u001b[0;36m, line \u001b[0;32m1\u001b[0m\n\u001b[0;31m    plt.scatter? #to get diff parameters\u001b[0m\n\u001b[0m               ^\u001b[0m\n\u001b[0;31mSyntaxError\u001b[0m\u001b[0;31m:\u001b[0m invalid syntax\n"
          ]
        }
      ]
    },
    {
      "cell_type": "code",
      "metadata": {
        "colab": {
          "base_uri": "https://localhost:8080/",
          "height": 265
        },
        "id": "D94nV6YX990z",
        "outputId": "f7554da9-168b-4e64-e56c-750a76d7321f"
      },
      "source": [
        "plt.scatter(x,y,s=100)#i/p\n",
        "plt.plot(x,pred_y)#o/p\n",
        "plt.show()"
      ],
      "execution_count": null,
      "outputs": [
        {
          "output_type": "display_data",
          "data": {
            "image/png": "[encoded data removed]",
            "text/plain": [
              "<Figure size 432x288 with 1 Axes>"
            ]
          },
          "metadata": {
            "tags": [],
            "needs_background": "light"
          }
        }
      ]
    },
    {
      "cell_type": "code",
      "metadata": {
        "id": "kB-U-eWt-k8S"
      },
      "source": [
        "plt.plot?"
      ],
      "execution_count": null,
      "outputs": []
    },
    {
      "cell_type": "code",
      "metadata": {
        "colab": {
          "base_uri": "https://localhost:8080/",
          "height": 265
        },
        "id": "H9W5a8s3-5ev",
        "outputId": "e88ee5de-56a8-4c24-eb57-fb1983a78d89"
      },
      "source": [
        "plt.scatter(x,y,s=100,c='g')#i/p\n",
        "plt.plot(x,pred_y)#o/p\n",
        "plt.show()"
      ],
      "execution_count": null,
      "outputs": [
        {
          "output_type": "display_data",
          "data": {
            "image/png": "[encoded data removed]",
            "text/plain": [
              "<Figure size 432x288 with 1 Axes>"
            ]
          },
          "metadata": {
            "tags": [],
            "needs_background": "light"
          }
        }
      ]
    },
    {
      "cell_type": "code",
      "metadata": {
        "colab": {
          "base_uri": "https://localhost:8080/",
          "height": 265
        },
        "id": "vGo4l99G_FBr",
        "outputId": "4a4311f4-5999-4763-ab6f-4d8c0ff2ce95"
      },
      "source": [
        "plt.scatter(x,y,s=100,c='g',marker='D')#i/p\n",
        "plt.plot(x,pred_y)#o/p\n",
        "plt.show()"
      ],
      "execution_count": null,
      "outputs": [
        {
          "output_type": "display_data",
          "data": {
            "image/png": "[encoded data removed]",
            "text/plain": [
              "<Figure size 432x288 with 1 Axes>"
            ]
          },
          "metadata": {
            "tags": [],
            "needs_background": "light"
          }
        }
      ]
    },
    {
      "cell_type": "code",
      "metadata": {
        "id": "D8Z2ru9q_PB8"
      },
      "source": [
        "#changing line style comes under plot---solid line dotted line dashed line"
      ],
      "execution_count": null,
      "outputs": []
    },
    {
      "cell_type": "code",
      "metadata": {
        "colab": {
          "base_uri": "https://localhost:8080/",
          "height": 265
        },
        "id": "ejBoezUZ_bHl",
        "outputId": "cc1335b6-3625-4dcd-e0f3-a8bb498b33ed"
      },
      "source": [
        "plt.scatter(x,y,s=100,c='g')#i/p\n",
        "plt.plot(x,pred_y, linestyle=':')#o/p\n",
        "plt.show()"
      ],
      "execution_count": null,
      "outputs": [
        {
          "output_type": "display_data",
          "data": {
            "image/png": "[encoded data removed]",
            "text/plain": [
              "<Figure size 432x288 with 1 Axes>"
            ]
          },
          "metadata": {
            "tags": [],
            "needs_background": "light"
          }
        }
      ]
    },
    {
      "cell_type": "code",
      "metadata": {
        "id": "I2miLZXb_kTo"
      },
      "source": [
        "plt.bar?\n",
        "plt.pie?"
      ],
      "execution_count": null,
      "outputs": []
    },
    {
      "cell_type": "markdown",
      "metadata": {
        "id": "Ysc_XYiBS3b1"
      },
      "source": [
        "## **The End of lecture 4//**"
      ]
    }
  ]
}
